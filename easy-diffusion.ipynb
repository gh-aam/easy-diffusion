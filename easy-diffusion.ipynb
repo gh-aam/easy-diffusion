{
  "nbformat": 4,
  "nbformat_minor": 0,
  "metadata": {
    "colab": {
      "provenance": [],
      "gpuType": "T4"
    },
    "kernelspec": {
      "name": "python3",
      "display_name": "Python 3"
    },
    "language_info": {
      "name": "python"
    },
    "accelerator": "GPU"
  },
  "cells": [
    {
      "cell_type": "code",
      "source": [
        "!git clone https://github.com/gh-aam/easy-diffusion.git\n",
        "\n",
        "%cd easy-diffusion\n",
        "!pip install -r requirements.txt\n",
        "!python app.py"
      ],
      "metadata": {
        "id": "xk1S4FWXtIn4"
      },
      "execution_count": null,
      "outputs": []
    }
  ]
}